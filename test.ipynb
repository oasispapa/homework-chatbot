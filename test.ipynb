{
 "cells": [
  {
   "cell_type": "code",
   "execution_count": null,
   "metadata": {},
   "outputs": [
    {
     "name": "stdout",
     "output_type": "stream",
     "text": [
      "[[0.6316672  0.         0.44943642 0.         0.         0.6316672\n",
      "  0.        ]\n",
      " [0.         0.47107781 0.33517574 0.47107781 0.47107781 0.\n",
      "  0.47107781]]\n"
     ]
    }
   ],
   "source": [
    "from sklearn.feature_extraction.text import TfidfVectorizer\n",
    "from sklearn.metrics.pairwise import cosine_similarity\n",
    "\n",
    "# TfidfVectorizer 객체 생성\n",
    "vectorizer = TfidfVectorizer()\n",
    "\n",
    "# 한국어 문장들\n",
    "doc1 = \"나는 학교에 갔다\"\n",
    "# doc2 = \"나는 영화관에 갔다\"\n",
    "doc2 = \"나는 그제 학교에서 밥을 지었습니다.\"\n",
    "\n",
    "# 문장들을 벡터화\n",
    "tfidf_matrix = vectorizer.fit_transform([doc1, doc2]) # Scipy의 CSR(Compressed Sparse Row) 형식의 희소 행렬(sparse matrix), 이 형식은 2차원 배열의 데이터를 메모리 효율적으로 저장하기 위해 0이 아닌 값들만을 저장  \n",
    "\n",
    "print( tfidf_matrix.toarray())"
   ]
  },
  {
   "cell_type": "code",
   "execution_count": null,
   "metadata": {},
   "outputs": [
    {
     "name": "stdout",
     "output_type": "stream",
     "text": [
      "[[0.15064018]] <class 'numpy.ndarray'>\n",
      "문장 1: 나는 학교에 갔다\n",
      "문장 2: 나는 그제 학교에서 밥을 지었습니다.\n",
      "두 문장의 코사인 유사도: 0.1506401849870651\n"
     ]
    }
   ],
   "source": [
    "# 문장1과 문장2의 코사인 유사도 계산\n",
    "cosine_sim = cosine_similarity(tfidf_matrix[0:1], tfidf_matrix[1:2]) # tfidf_matrix[0:1]는 첫 번째 행을 선택하는 슬라이싱\n",
    "print(cosine_sim, type(cosine_sim))\n",
    "print(f\"문장 1: {doc1}\")\n",
    "print(f\"문장 2: {doc2}\")\n",
    "print(f\"두 문장의 코사인 유사도: {cosine_sim[0][0]}\")"
   ]
  },
  {
   "cell_type": "code",
   "execution_count": 1,
   "metadata": {},
   "outputs": [],
   "source": [
    "# 레벤슈타인 거리 구하기\n",
    "def calc_distance(a, b):\n",
    "    ''' 레벤슈타인 거리 계산하기 '''\n",
    "    if a == b: return 0 # 같으면 0을 반환\n",
    "    a_len = len(a) # a 길이\n",
    "    b_len = len(b) # b 길이\n",
    "    if a == \"\": return b_len\n",
    "    if b == \"\": return a_len\n",
    "    # 2차원 표 (a_len+1, b_len+1) 준비하기 --- (※1)\n",
    "    # matrix 초기화의 예 : [[0, 1, 2, 3], [1, 0, 0, 0, 0], [2, 0, 0, 0, 0], [3, 0, 0, 0, 0], [4, 0, 0, 0, 0]]\n",
    "    # [0, 1, 2, 3]\n",
    "    # [1, 0, 0, 0]\n",
    "    # [2, 0, 0, 0]\n",
    "    # [3, 0, 0, 0] \n",
    "    matrix = [[] for i in range(a_len+1)] # 리스트 컴프리헨션을 사용하여 1차원 초기화\n",
    "    for i in range(a_len+1): # 0으로 초기화\n",
    "        matrix[i] = [0 for j in range(b_len+1)]  # 리스트 컴프리헨션을 사용하여 2차원 초기화\n",
    "    # 0일 때 초깃값을 설정\n",
    "    for i in range(a_len+1):\n",
    "        matrix[i][0] = i\n",
    "    for j in range(b_len+1):\n",
    "        matrix[0][j] = j\n",
    "    # 표 채우기 --- (※2)\n",
    "    # print(matrix,'----------')\n",
    "    for i in range(1, a_len+1):\n",
    "        ac = a[i-1]\n",
    "        # print(ac,'=============')\n",
    "        for j in range(1, b_len+1):\n",
    "            bc = b[j-1] \n",
    "            # print(bc)\n",
    "            cost = 0 if (ac == bc) else 1  #  파이썬 조건 표현식 예:) result = value1 if condition else value2\n",
    "            matrix[i][j] = min([\n",
    "                matrix[i-1][j] + 1,     # 문자 제거: 위쪽에서 +1\n",
    "                matrix[i][j-1] + 1,     # 문자 삽입: 왼쪽 수에서 +1   \n",
    "                matrix[i-1][j-1] + cost # 문자 변경: 대각선에서 +1, 문자가 동일하면 대각선 숫자 복사\n",
    "            ])\n",
    "            # print(matrix)\n",
    "        # print(matrix,'----------끝')\n",
    "    return matrix[a_len][b_len]\n"
   ]
  },
  {
   "cell_type": "code",
   "execution_count": 4,
   "metadata": {},
   "outputs": [
    {
     "name": "stdout",
     "output_type": "stream",
     "text": [
      "result :: \n",
      "0\n",
      "5\n"
     ]
    }
   ],
   "source": [
    "\n",
    "# \"가나다라\"와 \"가마바라\"의 거리 --- (※3)\n",
    "\n",
    "doc1 = \"나는 영화관에 갔다\"\n",
    "doc2 = \"나는 영화관에 갔다\"\n",
    "# doc2 = \"나는 그제 학교에서 밥을 지었습니다.\"\n",
    "print(\"result :: \")\n",
    "print(calc_distance(doc1, doc2))\n",
    "\n",
    "print(calc_distance(\"얼마나 분석이 될까요\",\"유사도나 분석 할까요\"))"
   ]
  }
 ],
 "metadata": {
  "kernelspec": {
   "display_name": "Python 3",
   "language": "python",
   "name": "python3"
  },
  "language_info": {
   "codemirror_mode": {
    "name": "ipython",
    "version": 3
   },
   "file_extension": ".py",
   "mimetype": "text/x-python",
   "name": "python",
   "nbconvert_exporter": "python",
   "pygments_lexer": "ipython3",
   "version": "3.12.3"
  }
 },
 "nbformat": 4,
 "nbformat_minor": 2
}
